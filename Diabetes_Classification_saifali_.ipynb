{
  "metadata": {
    "kernelspec": {
      "language": "python",
      "display_name": "Python 3",
      "name": "python3"
    },
    "language_info": {
      "name": "python",
      "version": "3.10.12",
      "mimetype": "text/x-python",
      "codemirror_mode": {
        "name": "ipython",
        "version": 3
      },
      "pygments_lexer": "ipython3",
      "nbconvert_exporter": "python",
      "file_extension": ".py"
    },
    "kaggle": {
      "accelerator": "none",
      "dataSources": [
        {
          "sourceId": 4476380,
          "sourceType": "datasetVersion",
          "datasetId": 2619659
        }
      ],
      "dockerImageVersionId": 30626,
      "isInternetEnabled": true,
      "language": "python",
      "sourceType": "notebook",
      "isGpuEnabled": false
    },
    "colab": {
      "name": "Diabetes Classification Akram 1",
      "provenance": [],
      "include_colab_link": true
    }
  },
  "nbformat_minor": 0,
  "nbformat": 4,
  "cells": [
    {
      "cell_type": "markdown",
      "metadata": {
        "id": "view-in-github",
        "colab_type": "text"
      },
      "source": [
        "<a href=\"https://colab.research.google.com/github/akash620123/akash620123/blob/main/Diabetes_Classification_Akash_.ipynb\" target=\"_parent\"><img src=\"https://colab.research.google.com/assets/colab-badge.svg\" alt=\"Open In Colab\"/></a>"
      ]
    },
    {
      "source": [
        "\n",
        "# IMPORTANT: RUN THIS CELL IN ORDER TO IMPORT YOUR KAGGLE DATA SOURCES\n",
        "# TO THE CORRECT LOCATION (/kaggle/input) IN YOUR NOTEBOOK,\n",
        "# THEN FEEL FREE TO DELETE THIS CELL.\n",
        "# NOTE: THIS NOTEBOOK ENVIRONMENT DIFFERS FROM KAGGLE'S PYTHON\n",
        "# ENVIRONMENT SO THERE MAY BE MISSING LIBRARIES USED BY YOUR\n",
        "# NOTEBOOK.\n",
        "\n",
        "import os\n",
        "import sys\n",
        "from tempfile import NamedTemporaryFile\n",
        "from urllib.request import urlopen\n",
        "from urllib.parse import unquote, urlparse\n",
        "from urllib.error import HTTPError\n",
        "from zipfile import ZipFile\n",
        "import tarfile\n",
        "import shutil\n",
        "\n",
        "CHUNK_SIZE = 40960\n",
        "DATA_SOURCE_MAPPING = 'predict-diabities:https%3A%2F%2Fstorage.googleapis.com%2Fkaggle-data-sets%2F2619659%2F4476380%2Fbundle%2Farchive.zip%3FX-Goog-Algorithm%3DGOOG4-RSA-SHA256%26X-Goog-Credential%3Dgcp-kaggle-com%2540kaggle-161607.iam.gserviceaccount.com%252F20240208%252Fauto%252Fstorage%252Fgoog4_request%26X-Goog-Date%3D20240208T084616Z%26X-Goog-Expires%3D259200%26X-Goog-SignedHeaders%3Dhost%26X-Goog-Signature%3D6ab2bf263bfc09eead42f862466ad360ae92d696f7d6f1150e196fba2f7e6b97a55d88b73e6693d9db196e6f07fc3cafef9276614b56aa82bcbe7d7bce08ce9e65f6e5e47dfd8c47836e988220d667b33a8bff98bbd6d2056ff4ee6a00f1c8ea1fe7c193fe2b4e34a3db45f7cea99b08b20a790057f9e7e30dec45bc0d2460e747e5ccc10bcb699171fe002f272e88bc0adcfa506afcc54f903f929e5bec9878390d4e5d55abc1fcc8c78db7bda98ae2d9050b7887b17ac217046a94011f915a5ffb9f62d1f2b35b351b533417b6b0a08fdc0edc8c179d31a9212a952f1f7663e2c5663ea306407dfee958a492db32b168f2add0f82d11718bf3cede58d702fc'\n",
        "\n",
        "KAGGLE_INPUT_PATH='/kaggle/input'\n",
        "KAGGLE_WORKING_PATH='/kaggle/working'\n",
        "KAGGLE_SYMLINK='kaggle'\n",
        "\n",
        "!umount /kaggle/input/ 2> /dev/null\n",
        "shutil.rmtree('/kaggle/input', ignore_errors=True)\n",
        "os.makedirs(KAGGLE_INPUT_PATH, 0o777, exist_ok=True)\n",
        "os.makedirs(KAGGLE_WORKING_PATH, 0o777, exist_ok=True)\n",
        "\n",
        "try:\n",
        "  os.symlink(KAGGLE_INPUT_PATH, os.path.join(\"..\", 'input'), target_is_directory=True)\n",
        "except FileExistsError:\n",
        "  pass\n",
        "try:\n",
        "  os.symlink(KAGGLE_WORKING_PATH, os.path.join(\"..\", 'working'), target_is_directory=True)\n",
        "except FileExistsError:\n",
        "  pass\n",
        "\n",
        "for data_source_mapping in DATA_SOURCE_MAPPING.split(','):\n",
        "    directory, download_url_encoded = data_source_mapping.split(':')\n",
        "    download_url = unquote(download_url_encoded)\n",
        "    filename = urlparse(download_url).path\n",
        "    destination_path = os.path.join(KAGGLE_INPUT_PATH, directory)\n",
        "    try:\n",
        "        with urlopen(download_url) as fileres, NamedTemporaryFile() as tfile:\n",
        "            total_length = fileres.headers['content-length']\n",
        "            print(f'Downloading {directory}, {total_length} bytes compressed')\n",
        "            dl = 0\n",
        "            data = fileres.read(CHUNK_SIZE)\n",
        "            while len(data) > 0:\n",
        "                dl += len(data)\n",
        "                tfile.write(data)\n",
        "                done = int(50 * dl / int(total_length))\n",
        "                sys.stdout.write(f\"\\r[{'=' * done}{' ' * (50-done)}] {dl} bytes downloaded\")\n",
        "                sys.stdout.flush()\n",
        "                data = fileres.read(CHUNK_SIZE)\n",
        "            if filename.endswith('.zip'):\n",
        "              with ZipFile(tfile) as zfile:\n",
        "                zfile.extractall(destination_path)\n",
        "            else:\n",
        "              with tarfile.open(tfile.name) as tarfile:\n",
        "                tarfile.extractall(destination_path)\n",
        "            print(f'\\nDownloaded and uncompressed: {directory}')\n",
        "    except HTTPError as e:\n",
        "        print(f'Failed to load (likely expired) {download_url} to path {destination_path}')\n",
        "        continue\n",
        "    except OSError as e:\n",
        "        print(f'Failed to load {download_url} to path {destination_path}')\n",
        "        continue\n",
        "\n",
        "print('Data source import complete.')\n"
      ],
      "metadata": {
        "id": "Gv59Yz_b5X7g",
        "outputId": "87bfac6e-5b40-42b7-f4e3-172225bd1ae0",
        "colab": {
          "base_uri": "https://localhost:8080/"
        }
      },
      "cell_type": "code",
      "outputs": [
        {
          "output_type": "stream",
          "name": "stdout",
          "text": [
            "Downloading predict-diabities, 9128 bytes compressed\n",
            "\r[==================================================] 9128 bytes downloaded\n",
            "Downloaded and uncompressed: predict-diabities\n",
            "Data source import complete.\n"
          ]
        }
      ],
      "execution_count": 1
    },
    {
      "cell_type": "code",
      "source": [
        "# This Python 3 environment comes with many helpful analytics libraries installed\n",
        "# It is defined by the kaggle/python Docker image: https://github.com/kaggle/docker-python\n",
        "# For example, here's several helpful packages to load\n",
        "\n",
        "import numpy as np # linear algebra\n",
        "import pandas as pd # data processing, CSV file I/O (e.g. pd.read_csv)\n",
        "\n",
        "# Input data files are available in the read-only \"../input/\" directory\n",
        "# For example, running this (by clicking run or pressing Shift+Enter) will list all files under the input directory\n",
        "\n",
        "import os\n",
        "for dirname, _, filenames in os.walk('/kaggle/input'):\n",
        "    for filename in filenames:\n",
        "        print(os.path.join(dirname, filename))\n",
        "\n",
        "# You can write up to 20GB to the current directory (/kaggle/working/) that gets preserved as output when you create a version using \"Save & Run All\"\n",
        "# You can also write temporary files to /kaggle/temp/, but they won't be saved outside of the current session"
      ],
      "metadata": {
        "_uuid": "8f2839f25d086af736a60e9eeb907d3b93b6e0e5",
        "_cell_guid": "b1076dfc-b9ad-4769-8c92-a6c4dae69d19",
        "execution": {
          "iopub.status.busy": "2024-01-09T21:19:16.724733Z",
          "iopub.execute_input": "2024-01-09T21:19:16.725808Z",
          "iopub.status.idle": "2024-01-09T21:19:17.136511Z",
          "shell.execute_reply.started": "2024-01-09T21:19:16.725757Z",
          "shell.execute_reply": "2024-01-09T21:19:17.135525Z"
        },
        "trusted": true,
        "id": "5jgSsTaQ5X7i",
        "outputId": "8b2cb5dd-c67c-4ea5-9009-079629aefe49",
        "colab": {
          "base_uri": "https://localhost:8080/"
        }
      },
      "execution_count": 2,
      "outputs": [
        {
          "output_type": "stream",
          "name": "stdout",
          "text": [
            "/kaggle/input/predict-diabities/diabetes.csv\n"
          ]
        }
      ]
    },
    {
      "cell_type": "code",
      "source": [
        "import warnings\n",
        "warnings.filterwarnings('ignore')\n",
        "import pandas as pd"
      ],
      "metadata": {
        "execution": {
          "iopub.status.busy": "2024-01-09T21:19:28.864559Z",
          "iopub.execute_input": "2024-01-09T21:19:28.865352Z",
          "iopub.status.idle": "2024-01-09T21:19:28.872342Z",
          "shell.execute_reply.started": "2024-01-09T21:19:28.865304Z",
          "shell.execute_reply": "2024-01-09T21:19:28.870454Z"
        },
        "trusted": true,
        "id": "n-D7n4cC5X7j"
      },
      "execution_count": 3,
      "outputs": []
    },
    {
      "cell_type": "code",
      "source": [
        "df = pd.read_csv('/kaggle/input/predict-diabities/diabetes.csv')\n",
        "df.head()"
      ],
      "metadata": {
        "execution": {
          "iopub.status.busy": "2024-01-09T21:19:34.044988Z",
          "iopub.execute_input": "2024-01-09T21:19:34.045437Z",
          "iopub.status.idle": "2024-01-09T21:19:34.069734Z",
          "shell.execute_reply.started": "2024-01-09T21:19:34.045404Z",
          "shell.execute_reply": "2024-01-09T21:19:34.068685Z"
        },
        "trusted": true,
        "id": "vyyDVIBP5X7j",
        "outputId": "d0db8a6c-434a-432a-bee1-f51b6a1056a6",
        "colab": {
          "base_uri": "https://localhost:8080/",
          "height": 206
        }
      },
      "execution_count": 4,
      "outputs": [
        {
          "output_type": "execute_result",
          "data": {
            "text/plain": [
              "   Pregnancies  Glucose  BloodPressure  SkinThickness  Insulin   BMI  \\\n",
              "0            6      148             72             35        0  33.6   \n",
              "1            1       85             66             29        0  26.6   \n",
              "2            8      183             64              0        0  23.3   \n",
              "3            1       89             66             23       94  28.1   \n",
              "4            0      137             40             35      168  43.1   \n",
              "\n",
              "   DiabetesPedigreeFunction  Age  Outcome  \n",
              "0                     0.627   50        1  \n",
              "1                     0.351   31        0  \n",
              "2                     0.672   32        1  \n",
              "3                     0.167   21        0  \n",
              "4                     2.288   33        1  "
            ],
            "text/html": [
              "\n",
              "  <div id=\"df-92fd0b37-5635-4b83-a4dd-dbcda1e9798c\" class=\"colab-df-container\">\n",
              "    <div>\n",
              "<style scoped>\n",
              "    .dataframe tbody tr th:only-of-type {\n",
              "        vertical-align: middle;\n",
              "    }\n",
              "\n",
              "    .dataframe tbody tr th {\n",
              "        vertical-align: top;\n",
              "    }\n",
              "\n",
              "    .dataframe thead th {\n",
              "        text-align: right;\n",
              "    }\n",
              "</style>\n",
              "<table border=\"1\" class=\"dataframe\">\n",
              "  <thead>\n",
              "    <tr style=\"text-align: right;\">\n",
              "      <th></th>\n",
              "      <th>Pregnancies</th>\n",
              "      <th>Glucose</th>\n",
              "      <th>BloodPressure</th>\n",
              "      <th>SkinThickness</th>\n",
              "      <th>Insulin</th>\n",
              "      <th>BMI</th>\n",
              "      <th>DiabetesPedigreeFunction</th>\n",
              "      <th>Age</th>\n",
              "      <th>Outcome</th>\n",
              "    </tr>\n",
              "  </thead>\n",
              "  <tbody>\n",
              "    <tr>\n",
              "      <th>0</th>\n",
              "      <td>6</td>\n",
              "      <td>148</td>\n",
              "      <td>72</td>\n",
              "      <td>35</td>\n",
              "      <td>0</td>\n",
              "      <td>33.6</td>\n",
              "      <td>0.627</td>\n",
              "      <td>50</td>\n",
              "      <td>1</td>\n",
              "    </tr>\n",
              "    <tr>\n",
              "      <th>1</th>\n",
              "      <td>1</td>\n",
              "      <td>85</td>\n",
              "      <td>66</td>\n",
              "      <td>29</td>\n",
              "      <td>0</td>\n",
              "      <td>26.6</td>\n",
              "      <td>0.351</td>\n",
              "      <td>31</td>\n",
              "      <td>0</td>\n",
              "    </tr>\n",
              "    <tr>\n",
              "      <th>2</th>\n",
              "      <td>8</td>\n",
              "      <td>183</td>\n",
              "      <td>64</td>\n",
              "      <td>0</td>\n",
              "      <td>0</td>\n",
              "      <td>23.3</td>\n",
              "      <td>0.672</td>\n",
              "      <td>32</td>\n",
              "      <td>1</td>\n",
              "    </tr>\n",
              "    <tr>\n",
              "      <th>3</th>\n",
              "      <td>1</td>\n",
              "      <td>89</td>\n",
              "      <td>66</td>\n",
              "      <td>23</td>\n",
              "      <td>94</td>\n",
              "      <td>28.1</td>\n",
              "      <td>0.167</td>\n",
              "      <td>21</td>\n",
              "      <td>0</td>\n",
              "    </tr>\n",
              "    <tr>\n",
              "      <th>4</th>\n",
              "      <td>0</td>\n",
              "      <td>137</td>\n",
              "      <td>40</td>\n",
              "      <td>35</td>\n",
              "      <td>168</td>\n",
              "      <td>43.1</td>\n",
              "      <td>2.288</td>\n",
              "      <td>33</td>\n",
              "      <td>1</td>\n",
              "    </tr>\n",
              "  </tbody>\n",
              "</table>\n",
              "</div>\n",
              "    <div class=\"colab-df-buttons\">\n",
              "\n",
              "  <div class=\"colab-df-container\">\n",
              "    <button class=\"colab-df-convert\" onclick=\"convertToInteractive('df-92fd0b37-5635-4b83-a4dd-dbcda1e9798c')\"\n",
              "            title=\"Convert this dataframe to an interactive table.\"\n",
              "            style=\"display:none;\">\n",
              "\n",
              "  <svg xmlns=\"http://www.w3.org/2000/svg\" height=\"24px\" viewBox=\"0 -960 960 960\">\n",
              "    <path d=\"M120-120v-720h720v720H120Zm60-500h600v-160H180v160Zm220 220h160v-160H400v160Zm0 220h160v-160H400v160ZM180-400h160v-160H180v160Zm440 0h160v-160H620v160ZM180-180h160v-160H180v160Zm440 0h160v-160H620v160Z\"/>\n",
              "  </svg>\n",
              "    </button>\n",
              "\n",
              "  <style>\n",
              "    .colab-df-container {\n",
              "      display:flex;\n",
              "      gap: 12px;\n",
              "    }\n",
              "\n",
              "    .colab-df-convert {\n",
              "      background-color: #E8F0FE;\n",
              "      border: none;\n",
              "      border-radius: 50%;\n",
              "      cursor: pointer;\n",
              "      display: none;\n",
              "      fill: #1967D2;\n",
              "      height: 32px;\n",
              "      padding: 0 0 0 0;\n",
              "      width: 32px;\n",
              "    }\n",
              "\n",
              "    .colab-df-convert:hover {\n",
              "      background-color: #E2EBFA;\n",
              "      box-shadow: 0px 1px 2px rgba(60, 64, 67, 0.3), 0px 1px 3px 1px rgba(60, 64, 67, 0.15);\n",
              "      fill: #174EA6;\n",
              "    }\n",
              "\n",
              "    .colab-df-buttons div {\n",
              "      margin-bottom: 4px;\n",
              "    }\n",
              "\n",
              "    [theme=dark] .colab-df-convert {\n",
              "      background-color: #3B4455;\n",
              "      fill: #D2E3FC;\n",
              "    }\n",
              "\n",
              "    [theme=dark] .colab-df-convert:hover {\n",
              "      background-color: #434B5C;\n",
              "      box-shadow: 0px 1px 3px 1px rgba(0, 0, 0, 0.15);\n",
              "      filter: drop-shadow(0px 1px 2px rgba(0, 0, 0, 0.3));\n",
              "      fill: #FFFFFF;\n",
              "    }\n",
              "  </style>\n",
              "\n",
              "    <script>\n",
              "      const buttonEl =\n",
              "        document.querySelector('#df-92fd0b37-5635-4b83-a4dd-dbcda1e9798c button.colab-df-convert');\n",
              "      buttonEl.style.display =\n",
              "        google.colab.kernel.accessAllowed ? 'block' : 'none';\n",
              "\n",
              "      async function convertToInteractive(key) {\n",
              "        const element = document.querySelector('#df-92fd0b37-5635-4b83-a4dd-dbcda1e9798c');\n",
              "        const dataTable =\n",
              "          await google.colab.kernel.invokeFunction('convertToInteractive',\n",
              "                                                    [key], {});\n",
              "        if (!dataTable) return;\n",
              "\n",
              "        const docLinkHtml = 'Like what you see? Visit the ' +\n",
              "          '<a target=\"_blank\" href=https://colab.research.google.com/notebooks/data_table.ipynb>data table notebook</a>'\n",
              "          + ' to learn more about interactive tables.';\n",
              "        element.innerHTML = '';\n",
              "        dataTable['output_type'] = 'display_data';\n",
              "        await google.colab.output.renderOutput(dataTable, element);\n",
              "        const docLink = document.createElement('div');\n",
              "        docLink.innerHTML = docLinkHtml;\n",
              "        element.appendChild(docLink);\n",
              "      }\n",
              "    </script>\n",
              "  </div>\n",
              "\n",
              "\n",
              "<div id=\"df-6938226c-2b9f-4883-a819-d29f65fe8f7c\">\n",
              "  <button class=\"colab-df-quickchart\" onclick=\"quickchart('df-6938226c-2b9f-4883-a819-d29f65fe8f7c')\"\n",
              "            title=\"Suggest charts\"\n",
              "            style=\"display:none;\">\n",
              "\n",
              "<svg xmlns=\"http://www.w3.org/2000/svg\" height=\"24px\"viewBox=\"0 0 24 24\"\n",
              "     width=\"24px\">\n",
              "    <g>\n",
              "        <path d=\"M19 3H5c-1.1 0-2 .9-2 2v14c0 1.1.9 2 2 2h14c1.1 0 2-.9 2-2V5c0-1.1-.9-2-2-2zM9 17H7v-7h2v7zm4 0h-2V7h2v10zm4 0h-2v-4h2v4z\"/>\n",
              "    </g>\n",
              "</svg>\n",
              "  </button>\n",
              "\n",
              "<style>\n",
              "  .colab-df-quickchart {\n",
              "      --bg-color: #E8F0FE;\n",
              "      --fill-color: #1967D2;\n",
              "      --hover-bg-color: #E2EBFA;\n",
              "      --hover-fill-color: #174EA6;\n",
              "      --disabled-fill-color: #AAA;\n",
              "      --disabled-bg-color: #DDD;\n",
              "  }\n",
              "\n",
              "  [theme=dark] .colab-df-quickchart {\n",
              "      --bg-color: #3B4455;\n",
              "      --fill-color: #D2E3FC;\n",
              "      --hover-bg-color: #434B5C;\n",
              "      --hover-fill-color: #FFFFFF;\n",
              "      --disabled-bg-color: #3B4455;\n",
              "      --disabled-fill-color: #666;\n",
              "  }\n",
              "\n",
              "  .colab-df-quickchart {\n",
              "    background-color: var(--bg-color);\n",
              "    border: none;\n",
              "    border-radius: 50%;\n",
              "    cursor: pointer;\n",
              "    display: none;\n",
              "    fill: var(--fill-color);\n",
              "    height: 32px;\n",
              "    padding: 0;\n",
              "    width: 32px;\n",
              "  }\n",
              "\n",
              "  .colab-df-quickchart:hover {\n",
              "    background-color: var(--hover-bg-color);\n",
              "    box-shadow: 0 1px 2px rgba(60, 64, 67, 0.3), 0 1px 3px 1px rgba(60, 64, 67, 0.15);\n",
              "    fill: var(--button-hover-fill-color);\n",
              "  }\n",
              "\n",
              "  .colab-df-quickchart-complete:disabled,\n",
              "  .colab-df-quickchart-complete:disabled:hover {\n",
              "    background-color: var(--disabled-bg-color);\n",
              "    fill: var(--disabled-fill-color);\n",
              "    box-shadow: none;\n",
              "  }\n",
              "\n",
              "  .colab-df-spinner {\n",
              "    border: 2px solid var(--fill-color);\n",
              "    border-color: transparent;\n",
              "    border-bottom-color: var(--fill-color);\n",
              "    animation:\n",
              "      spin 1s steps(1) infinite;\n",
              "  }\n",
              "\n",
              "  @keyframes spin {\n",
              "    0% {\n",
              "      border-color: transparent;\n",
              "      border-bottom-color: var(--fill-color);\n",
              "      border-left-color: var(--fill-color);\n",
              "    }\n",
              "    20% {\n",
              "      border-color: transparent;\n",
              "      border-left-color: var(--fill-color);\n",
              "      border-top-color: var(--fill-color);\n",
              "    }\n",
              "    30% {\n",
              "      border-color: transparent;\n",
              "      border-left-color: var(--fill-color);\n",
              "      border-top-color: var(--fill-color);\n",
              "      border-right-color: var(--fill-color);\n",
              "    }\n",
              "    40% {\n",
              "      border-color: transparent;\n",
              "      border-right-color: var(--fill-color);\n",
              "      border-top-color: var(--fill-color);\n",
              "    }\n",
              "    60% {\n",
              "      border-color: transparent;\n",
              "      border-right-color: var(--fill-color);\n",
              "    }\n",
              "    80% {\n",
              "      border-color: transparent;\n",
              "      border-right-color: var(--fill-color);\n",
              "      border-bottom-color: var(--fill-color);\n",
              "    }\n",
              "    90% {\n",
              "      border-color: transparent;\n",
              "      border-bottom-color: var(--fill-color);\n",
              "    }\n",
              "  }\n",
              "</style>\n",
              "\n",
              "  <script>\n",
              "    async function quickchart(key) {\n",
              "      const quickchartButtonEl =\n",
              "        document.querySelector('#' + key + ' button');\n",
              "      quickchartButtonEl.disabled = true;  // To prevent multiple clicks.\n",
              "      quickchartButtonEl.classList.add('colab-df-spinner');\n",
              "      try {\n",
              "        const charts = await google.colab.kernel.invokeFunction(\n",
              "            'suggestCharts', [key], {});\n",
              "      } catch (error) {\n",
              "        console.error('Error during call to suggestCharts:', error);\n",
              "      }\n",
              "      quickchartButtonEl.classList.remove('colab-df-spinner');\n",
              "      quickchartButtonEl.classList.add('colab-df-quickchart-complete');\n",
              "    }\n",
              "    (() => {\n",
              "      let quickchartButtonEl =\n",
              "        document.querySelector('#df-6938226c-2b9f-4883-a819-d29f65fe8f7c button');\n",
              "      quickchartButtonEl.style.display =\n",
              "        google.colab.kernel.accessAllowed ? 'block' : 'none';\n",
              "    })();\n",
              "  </script>\n",
              "</div>\n",
              "\n",
              "    </div>\n",
              "  </div>\n"
            ]
          },
          "metadata": {},
          "execution_count": 4
        }
      ]
    },
    {
      "cell_type": "code",
      "source": [
        "df.info()"
      ],
      "metadata": {
        "execution": {
          "iopub.status.busy": "2024-01-09T21:19:38.033295Z",
          "iopub.execute_input": "2024-01-09T21:19:38.033955Z",
          "iopub.status.idle": "2024-01-09T21:19:38.050484Z",
          "shell.execute_reply.started": "2024-01-09T21:19:38.033891Z",
          "shell.execute_reply": "2024-01-09T21:19:38.049035Z"
        },
        "trusted": true,
        "id": "HNhCyZQl5X7j",
        "outputId": "18cbbfa7-385b-41cf-b4b9-55c54cf2cd0a",
        "colab": {
          "base_uri": "https://localhost:8080/"
        }
      },
      "execution_count": 5,
      "outputs": [
        {
          "output_type": "stream",
          "name": "stdout",
          "text": [
            "<class 'pandas.core.frame.DataFrame'>\n",
            "RangeIndex: 768 entries, 0 to 767\n",
            "Data columns (total 9 columns):\n",
            " #   Column                    Non-Null Count  Dtype  \n",
            "---  ------                    --------------  -----  \n",
            " 0   Pregnancies               768 non-null    int64  \n",
            " 1   Glucose                   768 non-null    int64  \n",
            " 2   BloodPressure             768 non-null    int64  \n",
            " 3   SkinThickness             768 non-null    int64  \n",
            " 4   Insulin                   768 non-null    int64  \n",
            " 5   BMI                       768 non-null    float64\n",
            " 6   DiabetesPedigreeFunction  768 non-null    float64\n",
            " 7   Age                       768 non-null    int64  \n",
            " 8   Outcome                   768 non-null    int64  \n",
            "dtypes: float64(2), int64(7)\n",
            "memory usage: 54.1 KB\n"
          ]
        }
      ]
    },
    {
      "cell_type": "code",
      "source": [
        "df.describe()"
      ],
      "metadata": {
        "execution": {
          "iopub.status.busy": "2024-01-09T21:19:42.460964Z",
          "iopub.execute_input": "2024-01-09T21:19:42.461329Z",
          "iopub.status.idle": "2024-01-09T21:19:42.496733Z",
          "shell.execute_reply.started": "2024-01-09T21:19:42.461299Z",
          "shell.execute_reply": "2024-01-09T21:19:42.495644Z"
        },
        "trusted": true,
        "id": "MZQTHGIt5X7j",
        "outputId": "d9b3a30c-8c04-4268-b9a1-4a1c9c038fd6",
        "colab": {
          "base_uri": "https://localhost:8080/",
          "height": 300
        }
      },
      "execution_count": 6,
      "outputs": [
        {
          "output_type": "execute_result",
          "data": {
            "text/plain": [
              "       Pregnancies     Glucose  BloodPressure  SkinThickness     Insulin  \\\n",
              "count   768.000000  768.000000     768.000000     768.000000  768.000000   \n",
              "mean      3.845052  120.894531      69.105469      20.536458   79.799479   \n",
              "std       3.369578   31.972618      19.355807      15.952218  115.244002   \n",
              "min       0.000000    0.000000       0.000000       0.000000    0.000000   \n",
              "25%       1.000000   99.000000      62.000000       0.000000    0.000000   \n",
              "50%       3.000000  117.000000      72.000000      23.000000   30.500000   \n",
              "75%       6.000000  140.250000      80.000000      32.000000  127.250000   \n",
              "max      17.000000  199.000000     122.000000      99.000000  846.000000   \n",
              "\n",
              "              BMI  DiabetesPedigreeFunction         Age     Outcome  \n",
              "count  768.000000                768.000000  768.000000  768.000000  \n",
              "mean    31.992578                  0.471876   33.240885    0.348958  \n",
              "std      7.884160                  0.331329   11.760232    0.476951  \n",
              "min      0.000000                  0.078000   21.000000    0.000000  \n",
              "25%     27.300000                  0.243750   24.000000    0.000000  \n",
              "50%     32.000000                  0.372500   29.000000    0.000000  \n",
              "75%     36.600000                  0.626250   41.000000    1.000000  \n",
              "max     67.100000                  2.420000   81.000000    1.000000  "
            ],
            "text/html": [
              "\n",
              "  <div id=\"df-7ce951eb-3a04-4537-aa2d-72d98f57f144\" class=\"colab-df-container\">\n",
              "    <div>\n",
              "<style scoped>\n",
              "    .dataframe tbody tr th:only-of-type {\n",
              "        vertical-align: middle;\n",
              "    }\n",
              "\n",
              "    .dataframe tbody tr th {\n",
              "        vertical-align: top;\n",
              "    }\n",
              "\n",
              "    .dataframe thead th {\n",
              "        text-align: right;\n",
              "    }\n",
              "</style>\n",
              "<table border=\"1\" class=\"dataframe\">\n",
              "  <thead>\n",
              "    <tr style=\"text-align: right;\">\n",
              "      <th></th>\n",
              "      <th>Pregnancies</th>\n",
              "      <th>Glucose</th>\n",
              "      <th>BloodPressure</th>\n",
              "      <th>SkinThickness</th>\n",
              "      <th>Insulin</th>\n",
              "      <th>BMI</th>\n",
              "      <th>DiabetesPedigreeFunction</th>\n",
              "      <th>Age</th>\n",
              "      <th>Outcome</th>\n",
              "    </tr>\n",
              "  </thead>\n",
              "  <tbody>\n",
              "    <tr>\n",
              "      <th>count</th>\n",
              "      <td>768.000000</td>\n",
              "      <td>768.000000</td>\n",
              "      <td>768.000000</td>\n",
              "      <td>768.000000</td>\n",
              "      <td>768.000000</td>\n",
              "      <td>768.000000</td>\n",
              "      <td>768.000000</td>\n",
              "      <td>768.000000</td>\n",
              "      <td>768.000000</td>\n",
              "    </tr>\n",
              "    <tr>\n",
              "      <th>mean</th>\n",
              "      <td>3.845052</td>\n",
              "      <td>120.894531</td>\n",
              "      <td>69.105469</td>\n",
              "      <td>20.536458</td>\n",
              "      <td>79.799479</td>\n",
              "      <td>31.992578</td>\n",
              "      <td>0.471876</td>\n",
              "      <td>33.240885</td>\n",
              "      <td>0.348958</td>\n",
              "    </tr>\n",
              "    <tr>\n",
              "      <th>std</th>\n",
              "      <td>3.369578</td>\n",
              "      <td>31.972618</td>\n",
              "      <td>19.355807</td>\n",
              "      <td>15.952218</td>\n",
              "      <td>115.244002</td>\n",
              "      <td>7.884160</td>\n",
              "      <td>0.331329</td>\n",
              "      <td>11.760232</td>\n",
              "      <td>0.476951</td>\n",
              "    </tr>\n",
              "    <tr>\n",
              "      <th>min</th>\n",
              "      <td>0.000000</td>\n",
              "      <td>0.000000</td>\n",
              "      <td>0.000000</td>\n",
              "      <td>0.000000</td>\n",
              "      <td>0.000000</td>\n",
              "      <td>0.000000</td>\n",
              "      <td>0.078000</td>\n",
              "      <td>21.000000</td>\n",
              "      <td>0.000000</td>\n",
              "    </tr>\n",
              "    <tr>\n",
              "      <th>25%</th>\n",
              "      <td>1.000000</td>\n",
              "      <td>99.000000</td>\n",
              "      <td>62.000000</td>\n",
              "      <td>0.000000</td>\n",
              "      <td>0.000000</td>\n",
              "      <td>27.300000</td>\n",
              "      <td>0.243750</td>\n",
              "      <td>24.000000</td>\n",
              "      <td>0.000000</td>\n",
              "    </tr>\n",
              "    <tr>\n",
              "      <th>50%</th>\n",
              "      <td>3.000000</td>\n",
              "      <td>117.000000</td>\n",
              "      <td>72.000000</td>\n",
              "      <td>23.000000</td>\n",
              "      <td>30.500000</td>\n",
              "      <td>32.000000</td>\n",
              "      <td>0.372500</td>\n",
              "      <td>29.000000</td>\n",
              "      <td>0.000000</td>\n",
              "    </tr>\n",
              "    <tr>\n",
              "      <th>75%</th>\n",
              "      <td>6.000000</td>\n",
              "      <td>140.250000</td>\n",
              "      <td>80.000000</td>\n",
              "      <td>32.000000</td>\n",
              "      <td>127.250000</td>\n",
              "      <td>36.600000</td>\n",
              "      <td>0.626250</td>\n",
              "      <td>41.000000</td>\n",
              "      <td>1.000000</td>\n",
              "    </tr>\n",
              "    <tr>\n",
              "      <th>max</th>\n",
              "      <td>17.000000</td>\n",
              "      <td>199.000000</td>\n",
              "      <td>122.000000</td>\n",
              "      <td>99.000000</td>\n",
              "      <td>846.000000</td>\n",
              "      <td>67.100000</td>\n",
              "      <td>2.420000</td>\n",
              "      <td>81.000000</td>\n",
              "      <td>1.000000</td>\n",
              "    </tr>\n",
              "  </tbody>\n",
              "</table>\n",
              "</div>\n",
              "    <div class=\"colab-df-buttons\">\n",
              "\n",
              "  <div class=\"colab-df-container\">\n",
              "    <button class=\"colab-df-convert\" onclick=\"convertToInteractive('df-7ce951eb-3a04-4537-aa2d-72d98f57f144')\"\n",
              "            title=\"Convert this dataframe to an interactive table.\"\n",
              "            style=\"display:none;\">\n",
              "\n",
              "  <svg xmlns=\"http://www.w3.org/2000/svg\" height=\"24px\" viewBox=\"0 -960 960 960\">\n",
              "    <path d=\"M120-120v-720h720v720H120Zm60-500h600v-160H180v160Zm220 220h160v-160H400v160Zm0 220h160v-160H400v160ZM180-400h160v-160H180v160Zm440 0h160v-160H620v160ZM180-180h160v-160H180v160Zm440 0h160v-160H620v160Z\"/>\n",
              "  </svg>\n",
              "    </button>\n",
              "\n",
              "  <style>\n",
              "    .colab-df-container {\n",
              "      display:flex;\n",
              "      gap: 12px;\n",
              "    }\n",
              "\n",
              "    .colab-df-convert {\n",
              "      background-color: #E8F0FE;\n",
              "      border: none;\n",
              "      border-radius: 50%;\n",
              "      cursor: pointer;\n",
              "      display: none;\n",
              "      fill: #1967D2;\n",
              "      height: 32px;\n",
              "      padding: 0 0 0 0;\n",
              "      width: 32px;\n",
              "    }\n",
              "\n",
              "    .colab-df-convert:hover {\n",
              "      background-color: #E2EBFA;\n",
              "      box-shadow: 0px 1px 2px rgba(60, 64, 67, 0.3), 0px 1px 3px 1px rgba(60, 64, 67, 0.15);\n",
              "      fill: #174EA6;\n",
              "    }\n",
              "\n",
              "    .colab-df-buttons div {\n",
              "      margin-bottom: 4px;\n",
              "    }\n",
              "\n",
              "    [theme=dark] .colab-df-convert {\n",
              "      background-color: #3B4455;\n",
              "      fill: #D2E3FC;\n",
              "    }\n",
              "\n",
              "    [theme=dark] .colab-df-convert:hover {\n",
              "      background-color: #434B5C;\n",
              "      box-shadow: 0px 1px 3px 1px rgba(0, 0, 0, 0.15);\n",
              "      filter: drop-shadow(0px 1px 2px rgba(0, 0, 0, 0.3));\n",
              "      fill: #FFFFFF;\n",
              "    }\n",
              "  </style>\n",
              "\n",
              "    <script>\n",
              "      const buttonEl =\n",
              "        document.querySelector('#df-7ce951eb-3a04-4537-aa2d-72d98f57f144 button.colab-df-convert');\n",
              "      buttonEl.style.display =\n",
              "        google.colab.kernel.accessAllowed ? 'block' : 'none';\n",
              "\n",
              "      async function convertToInteractive(key) {\n",
              "        const element = document.querySelector('#df-7ce951eb-3a04-4537-aa2d-72d98f57f144');\n",
              "        const dataTable =\n",
              "          await google.colab.kernel.invokeFunction('convertToInteractive',\n",
              "                                                    [key], {});\n",
              "        if (!dataTable) return;\n",
              "\n",
              "        const docLinkHtml = 'Like what you see? Visit the ' +\n",
              "          '<a target=\"_blank\" href=https://colab.research.google.com/notebooks/data_table.ipynb>data table notebook</a>'\n",
              "          + ' to learn more about interactive tables.';\n",
              "        element.innerHTML = '';\n",
              "        dataTable['output_type'] = 'display_data';\n",
              "        await google.colab.output.renderOutput(dataTable, element);\n",
              "        const docLink = document.createElement('div');\n",
              "        docLink.innerHTML = docLinkHtml;\n",
              "        element.appendChild(docLink);\n",
              "      }\n",
              "    </script>\n",
              "  </div>\n",
              "\n",
              "\n",
              "<div id=\"df-7de7122b-59d0-4511-a6d2-0c8335551b16\">\n",
              "  <button class=\"colab-df-quickchart\" onclick=\"quickchart('df-7de7122b-59d0-4511-a6d2-0c8335551b16')\"\n",
              "            title=\"Suggest charts\"\n",
              "            style=\"display:none;\">\n",
              "\n",
              "<svg xmlns=\"http://www.w3.org/2000/svg\" height=\"24px\"viewBox=\"0 0 24 24\"\n",
              "     width=\"24px\">\n",
              "    <g>\n",
              "        <path d=\"M19 3H5c-1.1 0-2 .9-2 2v14c0 1.1.9 2 2 2h14c1.1 0 2-.9 2-2V5c0-1.1-.9-2-2-2zM9 17H7v-7h2v7zm4 0h-2V7h2v10zm4 0h-2v-4h2v4z\"/>\n",
              "    </g>\n",
              "</svg>\n",
              "  </button>\n",
              "\n",
              "<style>\n",
              "  .colab-df-quickchart {\n",
              "      --bg-color: #E8F0FE;\n",
              "      --fill-color: #1967D2;\n",
              "      --hover-bg-color: #E2EBFA;\n",
              "      --hover-fill-color: #174EA6;\n",
              "      --disabled-fill-color: #AAA;\n",
              "      --disabled-bg-color: #DDD;\n",
              "  }\n",
              "\n",
              "  [theme=dark] .colab-df-quickchart {\n",
              "      --bg-color: #3B4455;\n",
              "      --fill-color: #D2E3FC;\n",
              "      --hover-bg-color: #434B5C;\n",
              "      --hover-fill-color: #FFFFFF;\n",
              "      --disabled-bg-color: #3B4455;\n",
              "      --disabled-fill-color: #666;\n",
              "  }\n",
              "\n",
              "  .colab-df-quickchart {\n",
              "    background-color: var(--bg-color);\n",
              "    border: none;\n",
              "    border-radius: 50%;\n",
              "    cursor: pointer;\n",
              "    display: none;\n",
              "    fill: var(--fill-color);\n",
              "    height: 32px;\n",
              "    padding: 0;\n",
              "    width: 32px;\n",
              "  }\n",
              "\n",
              "  .colab-df-quickchart:hover {\n",
              "    background-color: var(--hover-bg-color);\n",
              "    box-shadow: 0 1px 2px rgba(60, 64, 67, 0.3), 0 1px 3px 1px rgba(60, 64, 67, 0.15);\n",
              "    fill: var(--button-hover-fill-color);\n",
              "  }\n",
              "\n",
              "  .colab-df-quickchart-complete:disabled,\n",
              "  .colab-df-quickchart-complete:disabled:hover {\n",
              "    background-color: var(--disabled-bg-color);\n",
              "    fill: var(--disabled-fill-color);\n",
              "    box-shadow: none;\n",
              "  }\n",
              "\n",
              "  .colab-df-spinner {\n",
              "    border: 2px solid var(--fill-color);\n",
              "    border-color: transparent;\n",
              "    border-bottom-color: var(--fill-color);\n",
              "    animation:\n",
              "      spin 1s steps(1) infinite;\n",
              "  }\n",
              "\n",
              "  @keyframes spin {\n",
              "    0% {\n",
              "      border-color: transparent;\n",
              "      border-bottom-color: var(--fill-color);\n",
              "      border-left-color: var(--fill-color);\n",
              "    }\n",
              "    20% {\n",
              "      border-color: transparent;\n",
              "      border-left-color: var(--fill-color);\n",
              "      border-top-color: var(--fill-color);\n",
              "    }\n",
              "    30% {\n",
              "      border-color: transparent;\n",
              "      border-left-color: var(--fill-color);\n",
              "      border-top-color: var(--fill-color);\n",
              "      border-right-color: var(--fill-color);\n",
              "    }\n",
              "    40% {\n",
              "      border-color: transparent;\n",
              "      border-right-color: var(--fill-color);\n",
              "      border-top-color: var(--fill-color);\n",
              "    }\n",
              "    60% {\n",
              "      border-color: transparent;\n",
              "      border-right-color: var(--fill-color);\n",
              "    }\n",
              "    80% {\n",
              "      border-color: transparent;\n",
              "      border-right-color: var(--fill-color);\n",
              "      border-bottom-color: var(--fill-color);\n",
              "    }\n",
              "    90% {\n",
              "      border-color: transparent;\n",
              "      border-bottom-color: var(--fill-color);\n",
              "    }\n",
              "  }\n",
              "</style>\n",
              "\n",
              "  <script>\n",
              "    async function quickchart(key) {\n",
              "      const quickchartButtonEl =\n",
              "        document.querySelector('#' + key + ' button');\n",
              "      quickchartButtonEl.disabled = true;  // To prevent multiple clicks.\n",
              "      quickchartButtonEl.classList.add('colab-df-spinner');\n",
              "      try {\n",
              "        const charts = await google.colab.kernel.invokeFunction(\n",
              "            'suggestCharts', [key], {});\n",
              "      } catch (error) {\n",
              "        console.error('Error during call to suggestCharts:', error);\n",
              "      }\n",
              "      quickchartButtonEl.classList.remove('colab-df-spinner');\n",
              "      quickchartButtonEl.classList.add('colab-df-quickchart-complete');\n",
              "    }\n",
              "    (() => {\n",
              "      let quickchartButtonEl =\n",
              "        document.querySelector('#df-7de7122b-59d0-4511-a6d2-0c8335551b16 button');\n",
              "      quickchartButtonEl.style.display =\n",
              "        google.colab.kernel.accessAllowed ? 'block' : 'none';\n",
              "    })();\n",
              "  </script>\n",
              "</div>\n",
              "\n",
              "    </div>\n",
              "  </div>\n"
            ]
          },
          "metadata": {},
          "execution_count": 6
        }
      ]
    },
    {
      "cell_type": "code",
      "source": [
        "import matplotlib.pyplot as plt\n",
        "import seaborn as sns"
      ],
      "metadata": {
        "execution": {
          "iopub.status.busy": "2024-01-09T21:19:48.796565Z",
          "iopub.execute_input": "2024-01-09T21:19:48.79698Z",
          "iopub.status.idle": "2024-01-09T21:19:49.393234Z",
          "shell.execute_reply.started": "2024-01-09T21:19:48.796937Z",
          "shell.execute_reply": "2024-01-09T21:19:49.391935Z"
        },
        "trusted": true,
        "id": "7hYiZp4m5X7j"
      },
      "execution_count": 7,
      "outputs": []
    },
    {
      "cell_type": "code",
      "source": [
        "correlation = df.corr()\n",
        "plt.figure(figsize=(10,8))\n",
        "sns.heatmap(correlation, cbar=True, square=True, fmt='.1f', annot=True, annot_kws={'size':8}, cmap='Blues')"
      ],
      "metadata": {
        "execution": {
          "iopub.status.busy": "2024-01-09T21:19:52.879274Z",
          "iopub.execute_input": "2024-01-09T21:19:52.879693Z",
          "iopub.status.idle": "2024-01-09T21:19:53.526535Z",
          "shell.execute_reply.started": "2024-01-09T21:19:52.879658Z",
          "shell.execute_reply": "2024-01-09T21:19:53.525325Z"
        },
        "trusted": true,
        "id": "XNUbudsP5X7j",
        "outputId": "e6427483-54ad-432c-fee0-e7978183a2b5",
        "colab": {
          "base_uri": "https://localhost:8080/",
          "height": 866
        }
      },
      "execution_count": 8,
      "outputs": [
        {
          "output_type": "execute_result",
          "data": {
            "text/plain": [
              "<Axes: >"
            ]
          },
          "metadata": {},
          "execution_count": 8
        },
        {
          "output_type": "display_data",
          "data": {
            "text/plain": [
              "<Figure size 1000x800 with 2 Axes>"
            ],
            "image/png": "[encoded data removed]"
          },
          "metadata": {}
        }
      ]
    },
    {
      "cell_type": "code",
      "source": [
        "X = df.drop('Outcome', axis=1)\n",
        "y = df['Outcome']"
      ],
      "metadata": {
        "execution": {
          "iopub.status.busy": "2024-01-09T21:19:59.718366Z",
          "iopub.execute_input": "2024-01-09T21:19:59.718907Z",
          "iopub.status.idle": "2024-01-09T21:19:59.726866Z",
          "shell.execute_reply.started": "2024-01-09T21:19:59.718849Z",
          "shell.execute_reply": "2024-01-09T21:19:59.725343Z"
        },
        "trusted": true,
        "id": "nn663z9K5X7j"
      },
      "execution_count": 9,
      "outputs": []
    },
    {
      "cell_type": "markdown",
      "source": [
        "# Handling outliers in X"
      ],
      "metadata": {
        "id": "4WWU5Zm-5X7k"
      }
    },
    {
      "cell_type": "code",
      "source": [
        "columns_names = X.columns"
      ],
      "metadata": {
        "execution": {
          "iopub.status.busy": "2024-01-09T21:21:52.533737Z",
          "iopub.execute_input": "2024-01-09T21:21:52.534264Z",
          "iopub.status.idle": "2024-01-09T21:21:52.540662Z",
          "shell.execute_reply.started": "2024-01-09T21:21:52.53421Z",
          "shell.execute_reply": "2024-01-09T21:21:52.539512Z"
        },
        "trusted": true,
        "id": "w80JrMk35X7m"
      },
      "execution_count": 10,
      "outputs": []
    },
    {
      "cell_type": "code",
      "source": [
        "# that function suppress for any outlier\n",
        "def outlier_thresholds(dataframe,variable,q1=0.25,q3=0.75):\n",
        "    quartile1 = dataframe[variable].quantile(q1)\n",
        "    quartile3 = dataframe[variable].quantile(q3)\n",
        "    quantile_range = quartile3 - quartile1\n",
        "    up_limit = quartile3 + 1.5 * quantile_range\n",
        "    low_limit = quartile1 - 1.5 * quantile_range\n",
        "    return up_limit, low_limit\n",
        "# if has any outlier we make replace with it\n",
        "def replace_with_outlier(dataframe,variable):\n",
        "    up_limit, low_limit = outlier_thresholds(dataframe,variable)\n",
        "    dataframe.loc[dataframe[variable] < low_limit, variable] = low_limit\n",
        "    dataframe.loc[dataframe[variable] > up_limit, variable] = up_limit\n",
        "\n",
        "# check outlier function\n",
        "def check_outlier(dataframe,col_name):\n",
        "    up_limit, low_limit = outlier_thresholds(dataframe, col_name)\n",
        "    if dataframe[(dataframe[col_name] > up_limit) | (dataframe[col_name] < low_limit)].any(axis=None):\n",
        "        return True\n",
        "    else:\n",
        "        return False"
      ],
      "metadata": {
        "execution": {
          "iopub.status.busy": "2024-01-09T21:22:31.164465Z",
          "iopub.execute_input": "2024-01-09T21:22:31.165648Z",
          "iopub.status.idle": "2024-01-09T21:22:31.174677Z",
          "shell.execute_reply.started": "2024-01-09T21:22:31.165595Z",
          "shell.execute_reply": "2024-01-09T21:22:31.173027Z"
        },
        "trusted": true,
        "id": "fDtlcyoN5X7m"
      },
      "execution_count": 11,
      "outputs": []
    },
    {
      "cell_type": "code",
      "source": [
        "# Check outliers\n",
        "for col in columns_names:\n",
        "    print((col))\n",
        "    print(check_outlier(X,col))\n",
        "    print('================')"
      ],
      "metadata": {
        "execution": {
          "iopub.status.busy": "2024-01-09T21:23:07.43525Z",
          "iopub.execute_input": "2024-01-09T21:23:07.435707Z",
          "iopub.status.idle": "2024-01-09T21:23:07.467431Z",
          "shell.execute_reply.started": "2024-01-09T21:23:07.43567Z",
          "shell.execute_reply": "2024-01-09T21:23:07.466149Z"
        },
        "trusted": true,
        "id": "iqVrKr_55X7m",
        "outputId": "b6340c32-f098-4eef-f3d8-2b3118617ab9",
        "colab": {
          "base_uri": "https://localhost:8080/"
        }
      },
      "execution_count": 12,
      "outputs": [
        {
          "output_type": "stream",
          "name": "stdout",
          "text": [
            "Pregnancies\n",
            "True\n",
            "================\n",
            "Glucose\n",
            "True\n",
            "================\n",
            "BloodPressure\n",
            "True\n",
            "================\n",
            "SkinThickness\n",
            "True\n",
            "================\n",
            "Insulin\n",
            "True\n",
            "================\n",
            "BMI\n",
            "True\n",
            "================\n",
            "DiabetesPedigreeFunction\n",
            "True\n",
            "================\n",
            "Age\n",
            "True\n",
            "================\n"
          ]
        }
      ]
    },
    {
      "cell_type": "code",
      "source": [
        "# handel outliers\n",
        "# col1 = ['Pregnancies', 'Glucose', 'BloodPressure', 'SkinThickness']\n",
        "for col in columns_names:\n",
        "    # outlier_thresholds(df,col)\n",
        "    replace_with_outlier(X,col)"
      ],
      "metadata": {
        "execution": {
          "iopub.status.busy": "2024-01-09T21:27:20.973657Z",
          "iopub.execute_input": "2024-01-09T21:27:20.974092Z",
          "iopub.status.idle": "2024-01-09T21:27:21.000897Z",
          "shell.execute_reply.started": "2024-01-09T21:27:20.974057Z",
          "shell.execute_reply": "2024-01-09T21:27:20.99978Z"
        },
        "trusted": true,
        "id": "E5citVyV5X7n"
      },
      "execution_count": 13,
      "outputs": []
    },
    {
      "cell_type": "code",
      "source": [
        "# Check outliers\n",
        "for col in columns_names:\n",
        "    print((col))\n",
        "    print(check_outlier(X,col))\n",
        "    print('================')"
      ],
      "metadata": {
        "execution": {
          "iopub.status.busy": "2024-01-09T21:27:37.449892Z",
          "iopub.execute_input": "2024-01-09T21:27:37.45035Z",
          "iopub.status.idle": "2024-01-09T21:27:37.48184Z",
          "shell.execute_reply.started": "2024-01-09T21:27:37.450311Z",
          "shell.execute_reply": "2024-01-09T21:27:37.48073Z"
        },
        "trusted": true,
        "id": "01IxS_aI5X7n",
        "outputId": "63f250e6-4097-4aeb-a800-6e3bedc5ae5c",
        "colab": {
          "base_uri": "https://localhost:8080/"
        }
      },
      "execution_count": 14,
      "outputs": [
        {
          "output_type": "stream",
          "name": "stdout",
          "text": [
            "Pregnancies\n",
            "False\n",
            "================\n",
            "Glucose\n",
            "False\n",
            "================\n",
            "BloodPressure\n",
            "False\n",
            "================\n",
            "SkinThickness\n",
            "False\n",
            "================\n",
            "Insulin\n",
            "False\n",
            "================\n",
            "BMI\n",
            "False\n",
            "================\n",
            "DiabetesPedigreeFunction\n",
            "False\n",
            "================\n",
            "Age\n",
            "False\n",
            "================\n"
          ]
        }
      ]
    },
    {
      "cell_type": "markdown",
      "source": [
        "# Check imbalanced Outcome"
      ],
      "metadata": {
        "id": "uORbhxVD5X7n"
      }
    },
    {
      "cell_type": "code",
      "source": [
        "plt.figure(figsize=(6, 4))\n",
        "df['Outcome'].value_counts().plot(kind='bar', color=['skyblue', 'salmon'])\n",
        "plt.title('Imbalanced Column Outcome')\n",
        "plt.xlabel('Outcome')\n",
        "plt.ylabel('Count')\n",
        "plt.xticks(rotation=0)\n",
        "plt.show()"
      ],
      "metadata": {
        "execution": {
          "iopub.status.busy": "2024-01-09T21:27:46.230092Z",
          "iopub.execute_input": "2024-01-09T21:27:46.230575Z",
          "iopub.status.idle": "2024-01-09T21:27:46.479494Z",
          "shell.execute_reply.started": "2024-01-09T21:27:46.230532Z",
          "shell.execute_reply": "2024-01-09T21:27:46.478177Z"
        },
        "trusted": true,
        "id": "iJrKyH0O5X7n",
        "outputId": "3d8198ff-839d-4677-9276-503838f74749",
        "colab": {
          "base_uri": "https://localhost:8080/",
          "height": 410
        }
      },
      "execution_count": 15,
      "outputs": [
        {
          "output_type": "display_data",
          "data": {
            "text/plain": [
              "<Figure size 600x400 with 1 Axes>"
            ],
            "image/png": "[encoded data removed]"
          },
          "metadata": {}
        }
      ]
    },
    {
      "cell_type": "code",
      "source": [
        "from imblearn.over_sampling import SMOTE"
      ],
      "metadata": {
        "execution": {
          "iopub.status.busy": "2024-01-09T21:27:51.937851Z",
          "iopub.execute_input": "2024-01-09T21:27:51.938688Z",
          "iopub.status.idle": "2024-01-09T21:27:52.117319Z",
          "shell.execute_reply.started": "2024-01-09T21:27:51.938641Z",
          "shell.execute_reply": "2024-01-09T21:27:52.11595Z"
        },
        "trusted": true,
        "id": "FPsjxNwr5X7n"
      },
      "execution_count": 16,
      "outputs": []
    },
    {
      "cell_type": "code",
      "source": [
        "x_res, y_res = SMOTE().fit_resample(X, y)"
      ],
      "metadata": {
        "execution": {
          "iopub.status.busy": "2024-01-09T21:27:55.970228Z",
          "iopub.execute_input": "2024-01-09T21:27:55.971011Z",
          "iopub.status.idle": "2024-01-09T21:27:55.988206Z",
          "shell.execute_reply.started": "2024-01-09T21:27:55.970964Z",
          "shell.execute_reply": "2024-01-09T21:27:55.986775Z"
        },
        "trusted": true,
        "id": "qGoyjxx_5X7n"
      },
      "execution_count": 17,
      "outputs": []
    },
    {
      "cell_type": "code",
      "source": [
        "from sklearn.model_selection import train_test_split"
      ],
      "metadata": {
        "execution": {
          "iopub.status.busy": "2024-01-09T21:27:59.76294Z",
          "iopub.execute_input": "2024-01-09T21:27:59.763366Z",
          "iopub.status.idle": "2024-01-09T21:27:59.768348Z",
          "shell.execute_reply.started": "2024-01-09T21:27:59.763331Z",
          "shell.execute_reply": "2024-01-09T21:27:59.767327Z"
        },
        "trusted": true,
        "id": "qj48TBAV5X7n"
      },
      "execution_count": 18,
      "outputs": []
    },
    {
      "cell_type": "code",
      "source": [
        "X_train, X_val, y_train, y_val = train_test_split(x_res, y_res, test_size=0.2, random_state=42)"
      ],
      "metadata": {
        "execution": {
          "iopub.status.busy": "2024-01-09T21:28:04.635289Z",
          "iopub.execute_input": "2024-01-09T21:28:04.636079Z",
          "iopub.status.idle": "2024-01-09T21:28:04.643045Z",
          "shell.execute_reply.started": "2024-01-09T21:28:04.636032Z",
          "shell.execute_reply": "2024-01-09T21:28:04.641881Z"
        },
        "trusted": true,
        "id": "Gc__2RXq5X7n"
      },
      "execution_count": 19,
      "outputs": []
    },
    {
      "cell_type": "markdown",
      "source": [
        "# Feature Scaling"
      ],
      "metadata": {
        "id": "8rHdzLY_5X7n"
      }
    },
    {
      "cell_type": "code",
      "source": [
        "from sklearn.preprocessing import MinMaxScaler\n",
        "\n",
        "scaler = MinMaxScaler()\n",
        "\n",
        "X_train = scaler.fit_transform(X_train)\n",
        "X_val= scaler.fit_transform(X_val)"
      ],
      "metadata": {
        "execution": {
          "iopub.status.busy": "2024-01-09T21:28:09.482462Z",
          "iopub.execute_input": "2024-01-09T21:28:09.483666Z",
          "iopub.status.idle": "2024-01-09T21:28:09.50481Z",
          "shell.execute_reply.started": "2024-01-09T21:28:09.483594Z",
          "shell.execute_reply": "2024-01-09T21:28:09.50316Z"
        },
        "trusted": true,
        "id": "fZlBDgqq5X7n"
      },
      "execution_count": 20,
      "outputs": []
    },
    {
      "cell_type": "markdown",
      "source": [
        "# Create LogisticRegression model"
      ],
      "metadata": {
        "id": "19faG_1U5X7o"
      }
    },
    {
      "cell_type": "code",
      "source": [
        "from sklearn.linear_model import LogisticRegression"
      ],
      "metadata": {
        "execution": {
          "iopub.status.busy": "2024-01-09T21:28:13.57568Z",
          "iopub.execute_input": "2024-01-09T21:28:13.576191Z",
          "iopub.status.idle": "2024-01-09T21:28:13.580797Z",
          "shell.execute_reply.started": "2024-01-09T21:28:13.576147Z",
          "shell.execute_reply": "2024-01-09T21:28:13.579619Z"
        },
        "trusted": true,
        "id": "KsQ3WcBO5X7o"
      },
      "execution_count": 21,
      "outputs": []
    },
    {
      "cell_type": "code",
      "source": [
        "log_model = LogisticRegression()\n",
        "log_model.fit(X_train, y_train)\n",
        "ypred1 = log_model.predict(X_val)"
      ],
      "metadata": {
        "execution": {
          "iopub.status.busy": "2024-01-09T21:28:17.869889Z",
          "iopub.execute_input": "2024-01-09T21:28:17.870345Z",
          "iopub.status.idle": "2024-01-09T21:28:17.883023Z",
          "shell.execute_reply.started": "2024-01-09T21:28:17.87031Z",
          "shell.execute_reply": "2024-01-09T21:28:17.881983Z"
        },
        "trusted": true,
        "id": "7FXNVBfP5X7o"
      },
      "execution_count": 22,
      "outputs": []
    },
    {
      "cell_type": "code",
      "source": [
        "from sklearn.metrics import roc_auc_score, accuracy_score, precision_score, recall_score, f1_score"
      ],
      "metadata": {
        "execution": {
          "iopub.status.busy": "2024-01-09T21:28:22.074552Z",
          "iopub.execute_input": "2024-01-09T21:28:22.075046Z",
          "iopub.status.idle": "2024-01-09T21:28:22.081359Z",
          "shell.execute_reply.started": "2024-01-09T21:28:22.075009Z",
          "shell.execute_reply": "2024-01-09T21:28:22.079896Z"
        },
        "trusted": true,
        "id": "F3v0itZY5X7o"
      },
      "execution_count": 23,
      "outputs": []
    },
    {
      "cell_type": "code",
      "source": [
        "acc0 = roc_auc_score(y_val, ypred1)\n",
        "print('roc_auc_score: ', acc0)\n",
        "acc1 = accuracy_score(y_val, ypred1)\n",
        "print('accuracy_score: ', acc1)\n",
        "acc2 = precision_score(y_val, ypred1)\n",
        "print('precision_score: ', acc2)\n",
        "acc3 = recall_score(y_val, ypred1)\n",
        "print('recall_score: ', acc3)\n",
        "acc4 = f1_score(y_val, ypred1)\n",
        "print('f1_score: ', acc4)"
      ],
      "metadata": {
        "execution": {
          "iopub.status.busy": "2024-01-09T21:28:25.5106Z",
          "iopub.execute_input": "2024-01-09T21:28:25.511162Z",
          "iopub.status.idle": "2024-01-09T21:28:25.530148Z",
          "shell.execute_reply.started": "2024-01-09T21:28:25.51112Z",
          "shell.execute_reply": "2024-01-09T21:28:25.529011Z"
        },
        "trusted": true,
        "id": "fMa1dfhh5X7o",
        "outputId": "06f60f6b-dd84-4018-957b-0b63fea5095f",
        "colab": {
          "base_uri": "https://localhost:8080/"
        }
      },
      "execution_count": 24,
      "outputs": [
        {
          "output_type": "stream",
          "name": "stdout",
          "text": [
            "roc_auc_score:  0.7504750475047505\n",
            "accuracy_score:  0.75\n",
            "precision_score:  0.7802197802197802\n",
            "recall_score:  0.7029702970297029\n",
            "f1_score:  0.7395833333333333\n"
          ]
        }
      ]
    },
    {
      "cell_type": "markdown",
      "source": [
        "# Create SVC model"
      ],
      "metadata": {
        "id": "OLaUxsQx5X7o"
      }
    },
    {
      "cell_type": "code",
      "source": [
        "from sklearn.svm import SVC"
      ],
      "metadata": {
        "execution": {
          "iopub.status.busy": "2024-01-09T21:28:34.692124Z",
          "iopub.execute_input": "2024-01-09T21:28:34.692646Z",
          "iopub.status.idle": "2024-01-09T21:28:34.698943Z",
          "shell.execute_reply.started": "2024-01-09T21:28:34.692603Z",
          "shell.execute_reply": "2024-01-09T21:28:34.697712Z"
        },
        "trusted": true,
        "id": "qG_O81QI5X7o"
      },
      "execution_count": 25,
      "outputs": []
    },
    {
      "cell_type": "code",
      "source": [
        "svc_model = SVC()\n",
        "svc_model.fit(X_train, y_train)\n",
        "ypred2 = svc_model.predict(X_val)"
      ],
      "metadata": {
        "execution": {
          "iopub.status.busy": "2024-01-09T21:28:37.977411Z",
          "iopub.execute_input": "2024-01-09T21:28:37.977949Z",
          "iopub.status.idle": "2024-01-09T21:28:38.011994Z",
          "shell.execute_reply.started": "2024-01-09T21:28:37.977881Z",
          "shell.execute_reply": "2024-01-09T21:28:38.010503Z"
        },
        "trusted": true,
        "id": "6wQ7raWj5X7o"
      },
      "execution_count": 26,
      "outputs": []
    },
    {
      "cell_type": "code",
      "source": [
        "acc0 = roc_auc_score(y_val, ypred2)\n",
        "print('roc_auc_score: ', acc0)\n",
        "acc1 = accuracy_score(y_val, ypred2)\n",
        "print('accuracy_score: ', acc1)\n",
        "acc2 = precision_score(y_val, ypred2)\n",
        "print('precision_score: ', acc2)\n",
        "acc3 = recall_score(y_val, ypred2)\n",
        "print('recall_score: ', acc3)\n",
        "acc4 = f1_score(y_val, ypred2)\n",
        "print('f1_score: ', acc4)"
      ],
      "metadata": {
        "execution": {
          "iopub.status.busy": "2024-01-09T21:28:41.849035Z",
          "iopub.execute_input": "2024-01-09T21:28:41.849625Z",
          "iopub.status.idle": "2024-01-09T21:28:41.87147Z",
          "shell.execute_reply.started": "2024-01-09T21:28:41.849584Z",
          "shell.execute_reply": "2024-01-09T21:28:41.87025Z"
        },
        "trusted": true,
        "id": "TD6VAses5X7o",
        "outputId": "e99ab2da-3c80-42fe-9845-dfc98bfd7b8f",
        "colab": {
          "base_uri": "https://localhost:8080/"
        }
      },
      "execution_count": 27,
      "outputs": [
        {
          "output_type": "stream",
          "name": "stdout",
          "text": [
            "roc_auc_score:  0.7403740374037403\n",
            "accuracy_score:  0.74\n",
            "precision_score:  0.7634408602150538\n",
            "recall_score:  0.7029702970297029\n",
            "f1_score:  0.731958762886598\n"
          ]
        }
      ]
    },
    {
      "cell_type": "markdown",
      "source": [
        "# Create RandomForestClassifier model"
      ],
      "metadata": {
        "id": "X_lIskpN5X7p"
      }
    },
    {
      "cell_type": "code",
      "source": [
        "from sklearn.ensemble import RandomForestClassifier"
      ],
      "metadata": {
        "execution": {
          "iopub.status.busy": "2024-01-09T21:28:49.979755Z",
          "iopub.execute_input": "2024-01-09T21:28:49.980863Z",
          "iopub.status.idle": "2024-01-09T21:28:49.986122Z",
          "shell.execute_reply.started": "2024-01-09T21:28:49.98082Z",
          "shell.execute_reply": "2024-01-09T21:28:49.984853Z"
        },
        "trusted": true,
        "id": "bWxw48F95X7p"
      },
      "execution_count": 28,
      "outputs": []
    },
    {
      "cell_type": "code",
      "source": [
        "rfc_model = RandomForestClassifier()\n",
        "rfc_model.fit(X_train, y_train)\n",
        "ypred3 = rfc_model.predict(X_val)"
      ],
      "metadata": {
        "execution": {
          "iopub.status.busy": "2024-01-09T21:28:54.217972Z",
          "iopub.execute_input": "2024-01-09T21:28:54.218361Z",
          "iopub.status.idle": "2024-01-09T21:28:54.487844Z",
          "shell.execute_reply.started": "2024-01-09T21:28:54.218331Z",
          "shell.execute_reply": "2024-01-09T21:28:54.486393Z"
        },
        "trusted": true,
        "id": "OfT5C8lO5X7p"
      },
      "execution_count": 29,
      "outputs": []
    },
    {
      "cell_type": "code",
      "source": [
        "acc0 = roc_auc_score(y_val, ypred3)\n",
        "print('roc_auc_score: ', acc0)\n",
        "acc1 = accuracy_score(y_val, ypred3)\n",
        "print('accuracy_score: ', acc1)\n",
        "acc2 = precision_score(y_val, ypred3)\n",
        "print('precision_score: ', acc2)\n",
        "acc3 = recall_score(y_val, ypred3)\n",
        "print('recall_score: ', acc3)\n",
        "acc4 = f1_score(y_val, ypred3)\n",
        "print('f1_score: ', acc4)"
      ],
      "metadata": {
        "execution": {
          "iopub.status.busy": "2024-01-09T21:28:58.10694Z",
          "iopub.execute_input": "2024-01-09T21:28:58.107335Z",
          "iopub.status.idle": "2024-01-09T21:28:58.124795Z",
          "shell.execute_reply.started": "2024-01-09T21:28:58.107301Z",
          "shell.execute_reply": "2024-01-09T21:28:58.123681Z"
        },
        "trusted": true,
        "id": "kS7UvLj05X7p",
        "outputId": "3915c82d-484c-4ecd-ca50-e1ccea631052",
        "colab": {
          "base_uri": "https://localhost:8080/"
        }
      },
      "execution_count": 30,
      "outputs": [
        {
          "output_type": "stream",
          "name": "stdout",
          "text": [
            "roc_auc_score:  0.7704770477047704\n",
            "accuracy_score:  0.77\n",
            "precision_score:  0.8021978021978022\n",
            "recall_score:  0.7227722772277227\n",
            "f1_score:  0.7604166666666667\n"
          ]
        }
      ]
    },
    {
      "cell_type": "markdown",
      "source": [
        "# Create XGBClassifier model"
      ],
      "metadata": {
        "id": "FDqnYz3E5X7p"
      }
    },
    {
      "cell_type": "code",
      "source": [
        "from xgboost import XGBClassifier"
      ],
      "metadata": {
        "execution": {
          "iopub.status.busy": "2024-01-09T21:29:05.452418Z",
          "iopub.execute_input": "2024-01-09T21:29:05.453182Z",
          "iopub.status.idle": "2024-01-09T21:29:05.48391Z",
          "shell.execute_reply.started": "2024-01-09T21:29:05.453144Z",
          "shell.execute_reply": "2024-01-09T21:29:05.483118Z"
        },
        "trusted": true,
        "id": "8UKXmrhb5X7p"
      },
      "execution_count": 31,
      "outputs": []
    },
    {
      "cell_type": "code",
      "source": [
        "xgc_model = XGBClassifier()\n",
        "xgc_model.fit(X_train, y_train)\n",
        "ypred4 = xgc_model.predict(X_val)"
      ],
      "metadata": {
        "execution": {
          "iopub.status.busy": "2024-01-09T21:29:08.744621Z",
          "iopub.execute_input": "2024-01-09T21:29:08.74512Z",
          "iopub.status.idle": "2024-01-09T21:29:09.103257Z",
          "shell.execute_reply.started": "2024-01-09T21:29:08.745076Z",
          "shell.execute_reply": "2024-01-09T21:29:09.102383Z"
        },
        "trusted": true,
        "id": "40UiNy8t5X7p"
      },
      "execution_count": 32,
      "outputs": []
    },
    {
      "cell_type": "code",
      "source": [
        "acc0 = roc_auc_score(y_val, ypred4)\n",
        "print('roc_auc_score: ', acc0)\n",
        "acc1 = accuracy_score(y_val, ypred4)\n",
        "print('accuracy_score: ', acc1)\n",
        "acc2 = precision_score(y_val, ypred4)\n",
        "print('precision_score: ', acc2)\n",
        "acc3 = recall_score(y_val, ypred4)\n",
        "print('recall_score: ', acc3)\n",
        "acc4 = f1_score(y_val, ypred4)\n",
        "print('f1_score: ', acc4)"
      ],
      "metadata": {
        "execution": {
          "iopub.status.busy": "2024-01-09T21:29:12.78248Z",
          "iopub.execute_input": "2024-01-09T21:29:12.783461Z",
          "iopub.status.idle": "2024-01-09T21:29:12.800785Z",
          "shell.execute_reply.started": "2024-01-09T21:29:12.783416Z",
          "shell.execute_reply": "2024-01-09T21:29:12.799715Z"
        },
        "trusted": true,
        "id": "X0iTj9Sm5X7v",
        "outputId": "0843a319-e011-40f4-de95-69886fb59ffa",
        "colab": {
          "base_uri": "https://localhost:8080/"
        }
      },
      "execution_count": 33,
      "outputs": [
        {
          "output_type": "stream",
          "name": "stdout",
          "text": [
            "roc_auc_score:  0.7653265326532654\n",
            "accuracy_score:  0.765\n",
            "precision_score:  0.7872340425531915\n",
            "recall_score:  0.7326732673267327\n",
            "f1_score:  0.7589743589743589\n"
          ]
        }
      ]
    },
    {
      "cell_type": "code",
      "source": [
        "models_acc = pd.DataFrame({'Models': ['LogisticRegression', 'SVC', 'RandomForestClassifier', 'XGBClassifier'],\n",
        "                           'roc_auc_score': [roc_auc_score(y_val, ypred1),\n",
        "                                             roc_auc_score(y_val, ypred2),\n",
        "                                             roc_auc_score(y_val, ypred3),\n",
        "                                             roc_auc_score(y_val, ypred4)\n",
        "                                             ],\n",
        "                           'accuracy_score': [accuracy_score(y_val, ypred1),\n",
        "                                              accuracy_score(y_val, ypred2),\n",
        "                                              accuracy_score(y_val, ypred3),\n",
        "                                              accuracy_score(y_val, ypred4)\n",
        "                                              ],\n",
        "                           'precision_score': [precision_score(y_val, ypred1),\n",
        "                                              precision_score(y_val, ypred2),\n",
        "                                              precision_score(y_val, ypred3),\n",
        "                                              precision_score(y_val, ypred4)\n",
        "                                              ],\n",
        "                           'recall_score':    [recall_score(y_val, ypred1),\n",
        "                                              recall_score(y_val, ypred2),\n",
        "                                              recall_score(y_val, ypred3),\n",
        "                                              recall_score(y_val, ypred4)\n",
        "                                              ],\n",
        "                           'f1_score':        [f1_score(y_val, ypred1),\n",
        "                                              f1_score(y_val, ypred2),\n",
        "                                              f1_score(y_val, ypred3),\n",
        "                                              f1_score(y_val, ypred4)\n",
        "                                              ]\n",
        "                          })\n",
        "\n",
        "models_acc"
      ],
      "metadata": {
        "execution": {
          "iopub.status.busy": "2024-01-09T21:39:18.188559Z",
          "iopub.execute_input": "2024-01-09T21:39:18.189043Z",
          "iopub.status.idle": "2024-01-09T21:39:18.241193Z",
          "shell.execute_reply.started": "2024-01-09T21:39:18.188994Z",
          "shell.execute_reply": "2024-01-09T21:39:18.24017Z"
        },
        "trusted": true,
        "id": "2oQ9twbz5X7v",
        "outputId": "ffffb9b2-bccb-4bae-a526-fce7f639e235",
        "colab": {
          "base_uri": "https://localhost:8080/",
          "height": 175
        }
      },
      "execution_count": 34,
      "outputs": [
        {
          "output_type": "execute_result",
          "data": {
            "text/plain": [
              "                   Models  roc_auc_score  accuracy_score  precision_score  \\\n",
              "0      LogisticRegression       0.750475           0.750         0.780220   \n",
              "1                     SVC       0.740374           0.740         0.763441   \n",
              "2  RandomForestClassifier       0.770477           0.770         0.802198   \n",
              "3           XGBClassifier       0.765327           0.765         0.787234   \n",
              "\n",
              "   recall_score  f1_score  \n",
              "0      0.702970  0.739583  \n",
              "1      0.702970  0.731959  \n",
              "2      0.722772  0.760417  \n",
              "3      0.732673  0.758974  "
            ],
            "text/html": [
              "\n",
              "  <div id=\"df-56543338-1ef6-4cd6-85f9-78d65c78a683\" class=\"colab-df-container\">\n",
              "    <div>\n",
              "<style scoped>\n",
              "    .dataframe tbody tr th:only-of-type {\n",
              "        vertical-align: middle;\n",
              "    }\n",
              "\n",
              "    .dataframe tbody tr th {\n",
              "        vertical-align: top;\n",
              "    }\n",
              "\n",
              "    .dataframe thead th {\n",
              "        text-align: right;\n",
              "    }\n",
              "</style>\n",
              "<table border=\"1\" class=\"dataframe\">\n",
              "  <thead>\n",
              "    <tr style=\"text-align: right;\">\n",
              "      <th></th>\n",
              "      <th>Models</th>\n",
              "      <th>roc_auc_score</th>\n",
              "      <th>accuracy_score</th>\n",
              "      <th>precision_score</th>\n",
              "      <th>recall_score</th>\n",
              "      <th>f1_score</th>\n",
              "    </tr>\n",
              "  </thead>\n",
              "  <tbody>\n",
              "    <tr>\n",
              "      <th>0</th>\n",
              "      <td>LogisticRegression</td>\n",
              "      <td>0.750475</td>\n",
              "      <td>0.750</td>\n",
              "      <td>0.780220</td>\n",
              "      <td>0.702970</td>\n",
              "      <td>0.739583</td>\n",
              "    </tr>\n",
              "    <tr>\n",
              "      <th>1</th>\n",
              "      <td>SVC</td>\n",
              "      <td>0.740374</td>\n",
              "      <td>0.740</td>\n",
              "      <td>0.763441</td>\n",
              "      <td>0.702970</td>\n",
              "      <td>0.731959</td>\n",
              "    </tr>\n",
              "    <tr>\n",
              "      <th>2</th>\n",
              "      <td>RandomForestClassifier</td>\n",
              "      <td>0.770477</td>\n",
              "      <td>0.770</td>\n",
              "      <td>0.802198</td>\n",
              "      <td>0.722772</td>\n",
              "      <td>0.760417</td>\n",
              "    </tr>\n",
              "    <tr>\n",
              "      <th>3</th>\n",
              "      <td>XGBClassifier</td>\n",
              "      <td>0.765327</td>\n",
              "      <td>0.765</td>\n",
              "      <td>0.787234</td>\n",
              "      <td>0.732673</td>\n",
              "      <td>0.758974</td>\n",
              "    </tr>\n",
              "  </tbody>\n",
              "</table>\n",
              "</div>\n",
              "    <div class=\"colab-df-buttons\">\n",
              "\n",
              "  <div class=\"colab-df-container\">\n",
              "    <button class=\"colab-df-convert\" onclick=\"convertToInteractive('df-56543338-1ef6-4cd6-85f9-78d65c78a683')\"\n",
              "            title=\"Convert this dataframe to an interactive table.\"\n",
              "            style=\"display:none;\">\n",
              "\n",
              "  <svg xmlns=\"http://www.w3.org/2000/svg\" height=\"24px\" viewBox=\"0 -960 960 960\">\n",
              "    <path d=\"M120-120v-720h720v720H120Zm60-500h600v-160H180v160Zm220 220h160v-160H400v160Zm0 220h160v-160H400v160ZM180-400h160v-160H180v160Zm440 0h160v-160H620v160ZM180-180h160v-160H180v160Zm440 0h160v-160H620v160Z\"/>\n",
              "  </svg>\n",
              "    </button>\n",
              "\n",
              "  <style>\n",
              "    .colab-df-container {\n",
              "      display:flex;\n",
              "      gap: 12px;\n",
              "    }\n",
              "\n",
              "    .colab-df-convert {\n",
              "      background-color: #E8F0FE;\n",
              "      border: none;\n",
              "      border-radius: 50%;\n",
              "      cursor: pointer;\n",
              "      display: none;\n",
              "      fill: #1967D2;\n",
              "      height: 32px;\n",
              "      padding: 0 0 0 0;\n",
              "      width: 32px;\n",
              "    }\n",
              "\n",
              "    .colab-df-convert:hover {\n",
              "      background-color: #E2EBFA;\n",
              "      box-shadow: 0px 1px 2px rgba(60, 64, 67, 0.3), 0px 1px 3px 1px rgba(60, 64, 67, 0.15);\n",
              "      fill: #174EA6;\n",
              "    }\n",
              "\n",
              "    .colab-df-buttons div {\n",
              "      margin-bottom: 4px;\n",
              "    }\n",
              "\n",
              "    [theme=dark] .colab-df-convert {\n",
              "      background-color: #3B4455;\n",
              "      fill: #D2E3FC;\n",
              "    }\n",
              "\n",
              "    [theme=dark] .colab-df-convert:hover {\n",
              "      background-color: #434B5C;\n",
              "      box-shadow: 0px 1px 3px 1px rgba(0, 0, 0, 0.15);\n",
              "      filter: drop-shadow(0px 1px 2px rgba(0, 0, 0, 0.3));\n",
              "      fill: #FFFFFF;\n",
              "    }\n",
              "  </style>\n",
              "\n",
              "    <script>\n",
              "      const buttonEl =\n",
              "        document.querySelector('#df-56543338-1ef6-4cd6-85f9-78d65c78a683 button.colab-df-convert');\n",
              "      buttonEl.style.display =\n",
              "        google.colab.kernel.accessAllowed ? 'block' : 'none';\n",
              "\n",
              "      async function convertToInteractive(key) {\n",
              "        const element = document.querySelector('#df-56543338-1ef6-4cd6-85f9-78d65c78a683');\n",
              "        const dataTable =\n",
              "          await google.colab.kernel.invokeFunction('convertToInteractive',\n",
              "                                                    [key], {});\n",
              "        if (!dataTable) return;\n",
              "\n",
              "        const docLinkHtml = 'Like what you see? Visit the ' +\n",
              "          '<a target=\"_blank\" href=https://colab.research.google.com/notebooks/data_table.ipynb>data table notebook</a>'\n",
              "          + ' to learn more about interactive tables.';\n",
              "        element.innerHTML = '';\n",
              "        dataTable['output_type'] = 'display_data';\n",
              "        await google.colab.output.renderOutput(dataTable, element);\n",
              "        const docLink = document.createElement('div');\n",
              "        docLink.innerHTML = docLinkHtml;\n",
              "        element.appendChild(docLink);\n",
              "      }\n",
              "    </script>\n",
              "  </div>\n",
              "\n",
              "\n",
              "<div id=\"df-c4ca4793-de21-4da4-b509-13f7c7c99e76\">\n",
              "  <button class=\"colab-df-quickchart\" onclick=\"quickchart('df-c4ca4793-de21-4da4-b509-13f7c7c99e76')\"\n",
              "            title=\"Suggest charts\"\n",
              "            style=\"display:none;\">\n",
              "\n",
              "<svg xmlns=\"http://www.w3.org/2000/svg\" height=\"24px\"viewBox=\"0 0 24 24\"\n",
              "     width=\"24px\">\n",
              "    <g>\n",
              "        <path d=\"M19 3H5c-1.1 0-2 .9-2 2v14c0 1.1.9 2 2 2h14c1.1 0 2-.9 2-2V5c0-1.1-.9-2-2-2zM9 17H7v-7h2v7zm4 0h-2V7h2v10zm4 0h-2v-4h2v4z\"/>\n",
              "    </g>\n",
              "</svg>\n",
              "  </button>\n",
              "\n",
              "<style>\n",
              "  .colab-df-quickchart {\n",
              "      --bg-color: #E8F0FE;\n",
              "      --fill-color: #1967D2;\n",
              "      --hover-bg-color: #E2EBFA;\n",
              "      --hover-fill-color: #174EA6;\n",
              "      --disabled-fill-color: #AAA;\n",
              "      --disabled-bg-color: #DDD;\n",
              "  }\n",
              "\n",
              "  [theme=dark] .colab-df-quickchart {\n",
              "      --bg-color: #3B4455;\n",
              "      --fill-color: #D2E3FC;\n",
              "      --hover-bg-color: #434B5C;\n",
              "      --hover-fill-color: #FFFFFF;\n",
              "      --disabled-bg-color: #3B4455;\n",
              "      --disabled-fill-color: #666;\n",
              "  }\n",
              "\n",
              "  .colab-df-quickchart {\n",
              "    background-color: var(--bg-color);\n",
              "    border: none;\n",
              "    border-radius: 50%;\n",
              "    cursor: pointer;\n",
              "    display: none;\n",
              "    fill: var(--fill-color);\n",
              "    height: 32px;\n",
              "    padding: 0;\n",
              "    width: 32px;\n",
              "  }\n",
              "\n",
              "  .colab-df-quickchart:hover {\n",
              "    background-color: var(--hover-bg-color);\n",
              "    box-shadow: 0 1px 2px rgba(60, 64, 67, 0.3), 0 1px 3px 1px rgba(60, 64, 67, 0.15);\n",
              "    fill: var(--button-hover-fill-color);\n",
              "  }\n",
              "\n",
              "  .colab-df-quickchart-complete:disabled,\n",
              "  .colab-df-quickchart-complete:disabled:hover {\n",
              "    background-color: var(--disabled-bg-color);\n",
              "    fill: var(--disabled-fill-color);\n",
              "    box-shadow: none;\n",
              "  }\n",
              "\n",
              "  .colab-df-spinner {\n",
              "    border: 2px solid var(--fill-color);\n",
              "    border-color: transparent;\n",
              "    border-bottom-color: var(--fill-color);\n",
              "    animation:\n",
              "      spin 1s steps(1) infinite;\n",
              "  }\n",
              "\n",
              "  @keyframes spin {\n",
              "    0% {\n",
              "      border-color: transparent;\n",
              "      border-bottom-color: var(--fill-color);\n",
              "      border-left-color: var(--fill-color);\n",
              "    }\n",
              "    20% {\n",
              "      border-color: transparent;\n",
              "      border-left-color: var(--fill-color);\n",
              "      border-top-color: var(--fill-color);\n",
              "    }\n",
              "    30% {\n",
              "      border-color: transparent;\n",
              "      border-left-color: var(--fill-color);\n",
              "      border-top-color: var(--fill-color);\n",
              "      border-right-color: var(--fill-color);\n",
              "    }\n",
              "    40% {\n",
              "      border-color: transparent;\n",
              "      border-right-color: var(--fill-color);\n",
              "      border-top-color: var(--fill-color);\n",
              "    }\n",
              "    60% {\n",
              "      border-color: transparent;\n",
              "      border-right-color: var(--fill-color);\n",
              "    }\n",
              "    80% {\n",
              "      border-color: transparent;\n",
              "      border-right-color: var(--fill-color);\n",
              "      border-bottom-color: var(--fill-color);\n",
              "    }\n",
              "    90% {\n",
              "      border-color: transparent;\n",
              "      border-bottom-color: var(--fill-color);\n",
              "    }\n",
              "  }\n",
              "</style>\n",
              "\n",
              "  <script>\n",
              "    async function quickchart(key) {\n",
              "      const quickchartButtonEl =\n",
              "        document.querySelector('#' + key + ' button');\n",
              "      quickchartButtonEl.disabled = true;  // To prevent multiple clicks.\n",
              "      quickchartButtonEl.classList.add('colab-df-spinner');\n",
              "      try {\n",
              "        const charts = await google.colab.kernel.invokeFunction(\n",
              "            'suggestCharts', [key], {});\n",
              "      } catch (error) {\n",
              "        console.error('Error during call to suggestCharts:', error);\n",
              "      }\n",
              "      quickchartButtonEl.classList.remove('colab-df-spinner');\n",
              "      quickchartButtonEl.classList.add('colab-df-quickchart-complete');\n",
              "    }\n",
              "    (() => {\n",
              "      let quickchartButtonEl =\n",
              "        document.querySelector('#df-c4ca4793-de21-4da4-b509-13f7c7c99e76 button');\n",
              "      quickchartButtonEl.style.display =\n",
              "        google.colab.kernel.accessAllowed ? 'block' : 'none';\n",
              "    })();\n",
              "  </script>\n",
              "</div>\n",
              "\n",
              "  <div id=\"id_4d48c803-4b4f-42fc-8285-c84c1095da03\">\n",
              "    <style>\n",
              "      .colab-df-generate {\n",
              "        background-color: #E8F0FE;\n",
              "        border: none;\n",
              "        border-radius: 50%;\n",
              "        cursor: pointer;\n",
              "        display: none;\n",
              "        fill: #1967D2;\n",
              "        height: 32px;\n",
              "        padding: 0 0 0 0;\n",
              "        width: 32px;\n",
              "      }\n",
              "\n",
              "      .colab-df-generate:hover {\n",
              "        background-color: #E2EBFA;\n",
              "        box-shadow: 0px 1px 2px rgba(60, 64, 67, 0.3), 0px 1px 3px 1px rgba(60, 64, 67, 0.15);\n",
              "        fill: #174EA6;\n",
              "      }\n",
              "\n",
              "      [theme=dark] .colab-df-generate {\n",
              "        background-color: #3B4455;\n",
              "        fill: #D2E3FC;\n",
              "      }\n",
              "\n",
              "      [theme=dark] .colab-df-generate:hover {\n",
              "        background-color: #434B5C;\n",
              "        box-shadow: 0px 1px 3px 1px rgba(0, 0, 0, 0.15);\n",
              "        filter: drop-shadow(0px 1px 2px rgba(0, 0, 0, 0.3));\n",
              "        fill: #FFFFFF;\n",
              "      }\n",
              "    </style>\n",
              "    <button class=\"colab-df-generate\" onclick=\"generateWithVariable('models_acc')\"\n",
              "            title=\"Generate code using this dataframe.\"\n",
              "            style=\"display:none;\">\n",
              "\n",
              "  <svg xmlns=\"http://www.w3.org/2000/svg\" height=\"24px\"viewBox=\"0 0 24 24\"\n",
              "       width=\"24px\">\n",
              "    <path d=\"M7,19H8.4L18.45,9,17,7.55,7,17.6ZM5,21V16.75L18.45,3.32a2,2,0,0,1,2.83,0l1.4,1.43a1.91,1.91,0,0,1,.58,1.4,1.91,1.91,0,0,1-.58,1.4L9.25,21ZM18.45,9,17,7.55Zm-12,3A5.31,5.31,0,0,0,4.9,8.1,5.31,5.31,0,0,0,1,6.5,5.31,5.31,0,0,0,4.9,4.9,5.31,5.31,0,0,0,6.5,1,5.31,5.31,0,0,0,8.1,4.9,5.31,5.31,0,0,0,12,6.5,5.46,5.46,0,0,0,6.5,12Z\"/>\n",
              "  </svg>\n",
              "    </button>\n",
              "    <script>\n",
              "      (() => {\n",
              "      const buttonEl =\n",
              "        document.querySelector('#id_4d48c803-4b4f-42fc-8285-c84c1095da03 button.colab-df-generate');\n",
              "      buttonEl.style.display =\n",
              "        google.colab.kernel.accessAllowed ? 'block' : 'none';\n",
              "\n",
              "      buttonEl.onclick = () => {\n",
              "        google.colab.notebook.generateWithVariable('models_acc');\n",
              "      }\n",
              "      })();\n",
              "    </script>\n",
              "  </div>\n",
              "\n",
              "    </div>\n",
              "  </div>\n"
            ]
          },
          "metadata": {},
          "execution_count": 34
        }
      ]
    }
  ]
}
